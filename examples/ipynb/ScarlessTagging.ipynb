{
  "cells": [
    {
      "cell_type": "markdown",
      "metadata": {
        "colab_type": "text",
        "id": "view-in-github"
      },
      "source": [
        "<a href=\"https://colab.research.google.com/github/zephyris/scarlesstagging/blob/main/examples/ipynb/ScarlessTagging.ipynb\" target=\"_parent\"><img src=\"https://colab.research.google.com/assets/colab-badge.svg\" alt=\"Open In Colab\"/></a>"
      ]
    },
    {
      "cell_type": "code",
      "execution_count": 5,
      "metadata": {},
      "outputs": [],
      "source": [
        "#@title Usage instructions\n",
        "\n",
        "#@markdown Enter your gene IDs and choose the tagging terminus, then select `Runtime > Run all` or press `Ctrl+F9` to run all of the code.\n",
        "#@markdown To do further primer design, you only need to re-run the \"User settings\" and \"Find tagging primers\" sections.\n",
        "!pip install -q git+https://github.com/zephyris/scarlesstagging"
      ]
    },
    {
      "cell_type": "code",
      "execution_count": 6,
      "metadata": {
        "cellView": "form",
        "id": "tpa0pcE2jvoo"
      },
      "outputs": [],
      "source": [
        "#@title User settings\n",
        "\n",
        "#@markdown List of gene IDs for which to design primers\n",
        "# as in TriTrypDB\n",
        "gene_ids = \"Tb927.7.6580 Tb427.07.6580 Tb427_070071900 \" #@param {type:\"string\"}\n",
        "gene_ids = gene_ids.split()\n",
        "\n",
        "#@markdown Tagging terminus\n",
        "# \"n\", \"c\" or \"both\"\n",
        "terminus = \"c\" #@param string [\"n\", \"c\", \"both\"]\n",
        "\n",
        "#@markdown Plasmid system/design strategy\n",
        "#@markdown pPOT-compatible gives pRExT2A-compatible primers which can also be used with pPOT plasmids, but leave a small scar\n",
        "#@markdown pRExT2A-scarless gives primers for scarless integration, but may be drug/tag-specific and incompatible with pPOT plasmids\n",
        "# defines primer binding site sequences\n",
        "plasmid_system = \"ppot-compatible\" #@param string [\"ppot-compatible\", \"prext2a-scarless\"]\n",
        "\n",
        "#@markdown Tag and drug marker (when using 2A plasmid system)\n",
        "tag = \"mng\"  #@param string [\"msc\", \"mng\"]\n",
        "drug = \"bsr\" #@param string [\"pac\", \"bsr\"]"
      ]
    },
    {
      "cell_type": "code",
      "execution_count": 7,
      "metadata": {
        "cellView": "form",
        "id": "JSj3u9aVl5Q5"
      },
      "outputs": [],
      "source": [
        "#@title Find tagging primers\n",
        "\n",
        "#@markdown Exhaustively scans the start (for N terminal tagging) or end (for C terminal tagging) of the open reading frame for PAM sites which can be mutated to remove the PAM without changing the coding sequence.\n",
        "\n",
        "#@markdown Up to six types of primers are designed:\n",
        "\n",
        "from scarlesstagging import ScarlessTagging\n",
        "\n",
        "scarlesstagging = ScarlessTagging()\n",
        "primer_results = []\n",
        "for gene_id in gene_ids:\n",
        "    primer_results.append(scarlesstagging.design_primers(gene_id, terminus, plasmid_system, tag, drug))\n",
        "\n",
        "file = open(\"primers.tsv\", \"w\")\n",
        "file.write(\"\\t\".join([\"Gene ID\", \"UF\", \"UR\", \"USG\", \"UERR\", \"DF\", \"DR\", \"DSG\", \"DERR\"])+\"\\r\\n\")\n",
        "for result in primer_results:\n",
        "  for err in [\"uerr\", \"derr\"]:\n",
        "    if result[err] is None:\n",
        "      result[err] = \"None\"\n",
        "    else:\n",
        "      result[err] = \", \".join(result[err])\n",
        "  for key in result:\n",
        "    print(\"\\t\".join([str(x) for x in [key, result[key]]]))\n",
        "  print(\"\")\n",
        "  file.write(\"\\t\".join([str(x) for x in [result[\"id\"], result[\"uf\"], result[\"ur\"], result[\"usg\"], result[\"uerr\"], result[\"df\"], result[\"dr\"], result[\"dsg\"], result[\"derr\"]]])+\"\\r\\n\")\n",
        "file.close()\n",
        "\n",
        "from google.colab import files\n",
        "files.download(\"primers.tsv\")\n",
        "\n",
        "#@markdown Sequences which are shared among all primers of that type (ie. standard plasmid annealing sequences, sgRNA T7 promoter sequence) are shown in lower case.\n",
        "#@markdown Gene/terminus-specific sequences (homology arms and actual guide RNA) are shown in upper case.\n",
        "#@markdown The single nucleotide change to mutate the PAM site is shown in lowercase, in the upstream reverse primer for N terminal tagging, and the downstream reverse primer for C terminal tagging.\n",
        "\n",
        "#@markdown Make sure to check the upstream error (UERR) and downstream error (DERR) columns for any errors or warnings about the primer design."
      ]
    }
  ],
  "metadata": {
    "colab": {
      "private_outputs": true,
      "provenance": []
    },
    "kernelspec": {
      "display_name": "Python 3",
      "name": "python3"
    },
    "language_info": {
      "codemirror_mode": {
        "name": "ipython",
        "version": 3
      },
      "file_extension": ".py",
      "mimetype": "text/x-python",
      "name": "python",
      "nbconvert_exporter": "python",
      "pygments_lexer": "ipython3",
      "version": "3.12.2"
    }
  },
  "nbformat": 4,
  "nbformat_minor": 0
}
