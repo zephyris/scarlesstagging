{
  "cells": [
    {
      "cell_type": "code",
      "execution_count": 5,
      "metadata": {},
      "outputs": [
        {
          "name": "stderr",
          "output_type": "stream",
          "text": [
            "ERROR: git+https://github.com/zephyris/scarlesstagging does not appear to be a Python project: neither 'setup.py' nor 'pyproject.toml' found.\n",
            "\n",
            "[notice] A new release of pip is available: 24.0 -> 24.2\n",
            "[notice] To update, run: python.exe -m pip install --upgrade pip\n"
          ]
        }
      ],
      "source": [
        "#@title Usage instructions\n",
        "\n",
        "#@markdown Enter your gene IDs and choose the tagging terminus, then select `Runtime > Run all` or press `Ctrl+F9` to run all of the code.\n",
        "#@markdown To do further primer design, you only need to re-run the \"User settings\" and \"Find tagging primers\" sections.\n",
        "!pip install -q git+https://github.com/zephyris/scarlesstagging"
      ]
    },
    {
      "cell_type": "code",
      "execution_count": 6,
      "metadata": {
        "cellView": "form",
        "id": "tpa0pcE2jvoo"
      },
      "outputs": [],
      "source": [
        "#@title User settings\n",
        "\n",
        "#@markdown List of gene IDs for which to design primers\n",
        "# as in TriTrypDB\n",
        "gene_ids = \"Tb927.7.6580 Tb427.07.6580 Tb427_070071900 \" #@param {type:\"string\"}\n",
        "gene_ids = gene_ids.split()\n",
        "\n",
        "#@markdown Tagging terminus\n",
        "# \"n\", \"c\" or \"both\"\n",
        "terminus = \"c\" #@param string [\"n\", \"c\", \"both\"]\n",
        "\n",
        "#@markdown Plasmid system, only 2A gives scarless integration\n",
        "# defines primer binding site sequences\n",
        "plasmid_system = \"2a\" #@param string [\"ppot-compatible\", \"2a\"]\n",
        "\n",
        "#@markdown Tag and drug marker (when using 2A plasmid system)\n",
        "tag = \"mng\"  #@param string [\"msc\", \"mng\"]\n",
        "drug = \"bsr\" #@param string [\"pac\", \"bsr\"]"
      ]
    },
    {
      "cell_type": "code",
      "execution_count": 7,
      "metadata": {
        "cellView": "form",
        "id": "JSj3u9aVl5Q5"
      },
      "outputs": [
        {
          "ename": "ModuleNotFoundError",
          "evalue": "No module named 'scarlesstagging'",
          "output_type": "error",
          "traceback": [
            "\u001b[1;31m---------------------------------------------------------------------------\u001b[0m",
            "\u001b[1;31mModuleNotFoundError\u001b[0m                       Traceback (most recent call last)",
            "Cell \u001b[1;32mIn[7], line 7\u001b[0m\n\u001b[0;32m      1\u001b[0m \u001b[38;5;66;03m#@title Find tagging primers\u001b[39;00m\n\u001b[0;32m      2\u001b[0m \n\u001b[0;32m      3\u001b[0m \u001b[38;5;66;03m#@markdown Exhaustively scans the start (for N terminal tagging) or end (for C terminal tagging) of the open reading frame for PAM sites which can be mutated to remove the PAM without changing the coding sequence.\u001b[39;00m\n\u001b[0;32m      4\u001b[0m \n\u001b[0;32m      5\u001b[0m \u001b[38;5;66;03m#@markdown Up to six types of primers are designed:\u001b[39;00m\n\u001b[1;32m----> 7\u001b[0m \u001b[38;5;28;01mfrom\u001b[39;00m \u001b[38;5;21;01mscarlesstagging\u001b[39;00m \u001b[38;5;28;01mimport\u001b[39;00m ScarlessTagging\n\u001b[0;32m      9\u001b[0m scarlesstagging \u001b[38;5;241m=\u001b[39m ScarlessTagging()\n\u001b[0;32m     10\u001b[0m primer_results \u001b[38;5;241m=\u001b[39m []\n",
            "\u001b[1;31mModuleNotFoundError\u001b[0m: No module named 'scarlesstagging'"
          ]
        }
      ],
      "source": [
        "#@title Find tagging primers\n",
        "\n",
        "#@markdown Exhaustively scans the start (for N terminal tagging) or end (for C terminal tagging) of the open reading frame for PAM sites which can be mutated to remove the PAM without changing the coding sequence.\n",
        "\n",
        "#@markdown Up to six types of primers are designed:\n",
        "\n",
        "from scarlesstagging import ScarlessTagging\n",
        "\n",
        "scarlesstagging = ScarlessTagging()\n",
        "primer_results = []\n",
        "for gene_id in gene_ids:\n",
        "    primer_results.append(scarlesstagging.design_primers(gene_id, terminus, plasmid_system, tag, drug))\n",
        "\n",
        "file = open(\"primers.tsv\", \"w\")\n",
        "file.write(\"\\t\".join([\"Gene ID\", \"UF\", \"UR\", \"USG\", \"UERR\", \"DF\", \"DR\", \"DSG\", \"DERR\"])+\"\\r\\n\")\n",
        "for result in primer_results:\n",
        "  for err in [\"uerr\", \"derr\"]:\n",
        "    if result[err] is None:\n",
        "      result[err] = \"None\"\n",
        "    else:\n",
        "      result[err] = \", \".join(result[err])\n",
        "  for key in result:\n",
        "    print(\"\\t\".join([str(x) for x in [key, result[key]]]))\n",
        "  print(\"\")\n",
        "  file.write(\"\\t\".join([str(x) for x in [result[\"id\"], result[\"uf\"], result[\"ur\"], result[\"usg\"], result[\"uerr\"], result[\"df\"], result[\"dr\"], result[\"dsg\"], result[\"derr\"]]])+\"\\r\\n\")\n",
        "file.close()\n",
        "\n",
        "from google.colab import files\n",
        "files.download(\"primers.tsv\")\n",
        "\n",
        "#@markdown Sequences which are shared among all primers of that type (ie. standard plasmid annealing sequences, sgRNA T7 promoter sequence) are shown in lower case.\n",
        "#@markdown Gene/terminus-specific sequences (homology arms and actual guide RNA) are shown in upper case.\n",
        "#@markdown The single nucleotide change to mutate the PAM site is shown in lowercase, in the upstream reverse primer for N terminal tagging, and the downstream reverse primer for C terminal tagging.\n",
        "\n",
        "#@markdown Make sure to check the upstream error (UERR) and downstream error (DERR) columns for any errors or warnings about the primer design."
      ]
    }
  ],
  "metadata": {
    "colab": {
      "private_outputs": true,
      "provenance": []
    },
    "kernelspec": {
      "display_name": "Python 3",
      "name": "python3"
    },
    "language_info": {
      "codemirror_mode": {
        "name": "ipython",
        "version": 3
      },
      "file_extension": ".py",
      "mimetype": "text/x-python",
      "name": "python",
      "nbconvert_exporter": "python",
      "pygments_lexer": "ipython3",
      "version": "3.12.2"
    }
  },
  "nbformat": 4,
  "nbformat_minor": 0
}
